{
 "cells": [
  {
   "cell_type": "markdown",
   "id": "2ddcb025-e395-482f-9733-6d40740f02e4",
   "metadata": {},
   "source": [
    "### Lab 7: Sistema de Recomendacion"
   ]
  },
  {
   "cell_type": "code",
   "execution_count": 65,
   "id": "93937b38-5814-4704-b70a-599247842e1c",
   "metadata": {},
   "outputs": [],
   "source": [
    "import pandas as pd \n",
    "import numpy as np \n",
    "import matplotlib.pyplot as plt \n",
    "import json\n",
    "\n",
    "%matplotlib inline"
   ]
  },
  {
   "cell_type": "code",
   "execution_count": 66,
   "id": "a845a3e0-a776-4b19-b76c-b3cac6d2725e",
   "metadata": {},
   "outputs": [],
   "source": [
    "def cost(Y, X, T):\n",
    "    return(((X @ T.T - Y) ** 2) * ((Y != 0) * 1)).sum()\n",
    "\n",
    "\n",
    "def gradient(Y, X, T):\n",
    "    R = (Y != 0) * 1\n",
    "    hip_error = (X @ T.T - Y) * R\n",
    "\n",
    "    return (\n",
    "        hip_error @ T,\n",
    "        hip_error.T @ X,\n",
    "    )\n",
    "\n",
    "\n",
    "def adam(\n",
    "        Y,\n",
    "        Xo,\n",
    "        To,\n",
    "        fun,\n",
    "        jac,\n",
    "        alpha=0.001,\n",
    "        beta1=0.9,\n",
    "        beta2=0.999,\n",
    "        epsilon=0.0000001,\n",
    "        max_iter=1000\n",
    "):\n",
    "    xm = cp.zeros(Xo.shape)\n",
    "    tm = cp.zeros(To.shape)\n",
    "\n",
    "    xv = cp.zeros(Xo.shape)\n",
    "    tv = cp.zeros(To.shape)\n",
    "\n",
    "    X, T, t = Xo, To, 0\n",
    "\n",
    "    while t < max_iter:\n",
    "        t += 1\n",
    "\n",
    "        xg, tg = jac(Y, X, T)\n",
    "\n",
    "        print(f'{t} \\t loss={fun(Y, X, T).item():,.2f}')\n",
    "\n",
    "        xm = beta1 * xm + (1 - beta1) * xg\n",
    "        tm = beta1 * tm + (1 - beta1) * tg\n",
    "\n",
    "        xv = beta2 * xv + (1 - beta2) * xg * xg\n",
    "        tv = beta2 * tv + (1 - beta2) * tg * tg\n",
    "\n",
    "        xmh = xm / (1 - beta1 ** t)\n",
    "        tmh = tm / (1 - beta1 ** t)\n",
    "\n",
    "        xvh = xv / (1 - beta2 ** t)\n",
    "        tvh = tv / (1 - beta2 ** t)\n",
    "\n",
    "        X -= alpha * xmh / (cp.sqrt(xvh) + epsilon)\n",
    "        T -= alpha * tmh / (cp.sqrt(tvh) + epsilon)\n",
    "\n",
    "    return X, T"
   ]
  },
  {
   "cell_type": "markdown",
   "id": "bb0fdc7b-58ea-411e-ab14-391247669eea",
   "metadata": {},
   "source": [
    "### Datasets"
   ]
  },
  {
   "cell_type": "code",
   "execution_count": 67,
   "id": "458ecb05-c72b-4079-8797-305aea3e12d8",
   "metadata": {},
   "outputs": [
    {
     "name": "stdout",
     "output_type": "stream",
     "text": [
      "(100004, 4) (45466, 24) (9125, 3)\n"
     ]
    },
    {
     "name": "stderr",
     "output_type": "stream",
     "text": [
      "/Users/raulcastellanos/Desktop/Universidad/S7/MLModels/venvMLM/lib/python3.9/site-packages/IPython/core/interactiveshell.py:3165: DtypeWarning: Columns (10) have mixed types.Specify dtype option on import or set low_memory=False.\n",
      "  has_raised = await self.run_ast_nodes(code_ast.body, cell_name,\n"
     ]
    }
   ],
   "source": [
    "ratings = pd.read_csv(\"ratings_small.csv\")\n",
    "movies = pd.read_csv(\"movies_metadata.csv\")\n",
    "links = pd.read_csv(\"links_small.csv\")\n",
    "\n",
    "print(ratings.shape, movies.shape, links.shape)"
   ]
  },
  {
   "cell_type": "markdown",
   "id": "3e1498db-73a7-4a9c-a1ad-5a8d0e55e9f1",
   "metadata": {},
   "source": [
    "### Descripcion de los datasets"
   ]
  },
  {
   "cell_type": "code",
   "execution_count": 68,
   "id": "40c46d67-6c54-4d60-addf-4ef4af4525f0",
   "metadata": {},
   "outputs": [
    {
     "name": "stdout",
     "output_type": "stream",
     "text": [
      "Dataset Ratings\n",
      "\n",
      "\n",
      "userId         int64\n",
      "movieId        int64\n",
      "rating       float64\n",
      "timestamp      int64\n",
      "dtype: object\n",
      "\n",
      "\n",
      "Movies Ratings\n",
      "\n",
      "\n",
      "adult                     object\n",
      "belongs_to_collection     object\n",
      "budget                    object\n",
      "genres                    object\n",
      "homepage                  object\n",
      "id                        object\n",
      "imdb_id                   object\n",
      "original_language         object\n",
      "original_title            object\n",
      "overview                  object\n",
      "popularity                object\n",
      "poster_path               object\n",
      "production_companies      object\n",
      "production_countries      object\n",
      "release_date              object\n",
      "revenue                  float64\n",
      "runtime                  float64\n",
      "spoken_languages          object\n",
      "status                    object\n",
      "tagline                   object\n",
      "title                     object\n",
      "video                     object\n",
      "vote_average             float64\n",
      "vote_count               float64\n",
      "dtype: object\n",
      "\n",
      "\n",
      "Links\n",
      "\n",
      "\n",
      "movieId      int64\n",
      "imdbId       int64\n",
      "tmdbId     float64\n",
      "dtype: object\n"
     ]
    }
   ],
   "source": [
    "print(\"Dataset Ratings\")\n",
    "print(\"\\n\")\n",
    "print(ratings.dtypes)\n",
    "print(\"\\n\")\n",
    "print(\"Movies Ratings\")\n",
    "print(\"\\n\")\n",
    "print(movies.dtypes)\n",
    "print(\"\\n\")\n",
    "print(\"Links\")\n",
    "print(\"\\n\")\n",
    "print(links.dtypes)"
   ]
  },
  {
   "cell_type": "code",
   "execution_count": 69,
   "id": "f395a3a2-c76f-4468-8d96-966cad1a51ab",
   "metadata": {},
   "outputs": [
    {
     "name": "stdout",
     "output_type": "stream",
     "text": [
      "<bound method NDFrame.head of         userId  movieId  rating   timestamp\n",
      "0            1       31     2.5  1260759144\n",
      "1            1     1029     3.0  1260759179\n",
      "2            1     1061     3.0  1260759182\n",
      "3            1     1129     2.0  1260759185\n",
      "4            1     1172     4.0  1260759205\n",
      "...        ...      ...     ...         ...\n",
      "99999      671     6268     2.5  1065579370\n",
      "100000     671     6269     4.0  1065149201\n",
      "100001     671     6365     4.0  1070940363\n",
      "100002     671     6385     2.5  1070979663\n",
      "100003     671     6565     3.5  1074784724\n",
      "\n",
      "[100004 rows x 4 columns]>\n"
     ]
    }
   ],
   "source": [
    "print(ratings.head)"
   ]
  },
  {
   "cell_type": "code",
   "execution_count": 70,
   "id": "00dd593c-21a4-4e8d-95bc-cd20e76af897",
   "metadata": {},
   "outputs": [
    {
     "name": "stdout",
     "output_type": "stream",
     "text": [
      "<bound method NDFrame.head of        adult                              belongs_to_collection    budget  \\\n",
      "0      False  {'id': 10194, 'name': 'Toy Story Collection', ...  30000000   \n",
      "1      False                                                NaN  65000000   \n",
      "2      False  {'id': 119050, 'name': 'Grumpy Old Men Collect...         0   \n",
      "3      False                                                NaN  16000000   \n",
      "4      False  {'id': 96871, 'name': 'Father of the Bride Col...         0   \n",
      "...      ...                                                ...       ...   \n",
      "45461  False                                                NaN         0   \n",
      "45462  False                                                NaN         0   \n",
      "45463  False                                                NaN         0   \n",
      "45464  False                                                NaN         0   \n",
      "45465  False                                                NaN         0   \n",
      "\n",
      "                                                  genres  \\\n",
      "0      [{'id': 16, 'name': 'Animation'}, {'id': 35, '...   \n",
      "1      [{'id': 12, 'name': 'Adventure'}, {'id': 14, '...   \n",
      "2      [{'id': 10749, 'name': 'Romance'}, {'id': 35, ...   \n",
      "3      [{'id': 35, 'name': 'Comedy'}, {'id': 18, 'nam...   \n",
      "4                         [{'id': 35, 'name': 'Comedy'}]   \n",
      "...                                                  ...   \n",
      "45461  [{'id': 18, 'name': 'Drama'}, {'id': 10751, 'n...   \n",
      "45462                      [{'id': 18, 'name': 'Drama'}]   \n",
      "45463  [{'id': 28, 'name': 'Action'}, {'id': 18, 'nam...   \n",
      "45464                                                 []   \n",
      "45465                                                 []   \n",
      "\n",
      "                                   homepage      id    imdb_id  \\\n",
      "0      http://toystory.disney.com/toy-story     862  tt0114709   \n",
      "1                                       NaN    8844  tt0113497   \n",
      "2                                       NaN   15602  tt0113228   \n",
      "3                                       NaN   31357  tt0114885   \n",
      "4                                       NaN   11862  tt0113041   \n",
      "...                                     ...     ...        ...   \n",
      "45461  http://www.imdb.com/title/tt6209470/  439050  tt6209470   \n",
      "45462                                   NaN  111109  tt2028550   \n",
      "45463                                   NaN   67758  tt0303758   \n",
      "45464                                   NaN  227506  tt0008536   \n",
      "45465                                   NaN  461257  tt6980792   \n",
      "\n",
      "      original_language               original_title  \\\n",
      "0                    en                    Toy Story   \n",
      "1                    en                      Jumanji   \n",
      "2                    en             Grumpier Old Men   \n",
      "3                    en            Waiting to Exhale   \n",
      "4                    en  Father of the Bride Part II   \n",
      "...                 ...                          ...   \n",
      "45461                fa                      رگ خواب   \n",
      "45462                tl          Siglo ng Pagluluwal   \n",
      "45463                en                     Betrayal   \n",
      "45464                en          Satana likuyushchiy   \n",
      "45465                en                     Queerama   \n",
      "\n",
      "                                                overview  ... release_date  \\\n",
      "0      Led by Woody, Andy's toys live happily in his ...  ...   1995-10-30   \n",
      "1      When siblings Judy and Peter discover an encha...  ...   1995-12-15   \n",
      "2      A family wedding reignites the ancient feud be...  ...   1995-12-22   \n",
      "3      Cheated on, mistreated and stepped on, the wom...  ...   1995-12-22   \n",
      "4      Just when George Banks has recovered from his ...  ...   1995-02-10   \n",
      "...                                                  ...  ...          ...   \n",
      "45461        Rising and falling between a man and woman.  ...          NaN   \n",
      "45462  An artist struggles to finish his work while a...  ...   2011-11-17   \n",
      "45463  When one of her hits goes wrong, a professiona...  ...   2003-08-01   \n",
      "45464  In a small town live two brothers, one a minis...  ...   1917-10-21   \n",
      "45465  50 years after decriminalisation of homosexual...  ...   2017-06-09   \n",
      "\n",
      "           revenue runtime                                   spoken_languages  \\\n",
      "0      373554033.0    81.0           [{'iso_639_1': 'en', 'name': 'English'}]   \n",
      "1      262797249.0   104.0  [{'iso_639_1': 'en', 'name': 'English'}, {'iso...   \n",
      "2              0.0   101.0           [{'iso_639_1': 'en', 'name': 'English'}]   \n",
      "3       81452156.0   127.0           [{'iso_639_1': 'en', 'name': 'English'}]   \n",
      "4       76578911.0   106.0           [{'iso_639_1': 'en', 'name': 'English'}]   \n",
      "...            ...     ...                                                ...   \n",
      "45461          0.0    90.0             [{'iso_639_1': 'fa', 'name': 'فارسی'}]   \n",
      "45462          0.0   360.0                  [{'iso_639_1': 'tl', 'name': ''}]   \n",
      "45463          0.0    90.0           [{'iso_639_1': 'en', 'name': 'English'}]   \n",
      "45464          0.0    87.0                                                 []   \n",
      "45465          0.0    75.0           [{'iso_639_1': 'en', 'name': 'English'}]   \n",
      "\n",
      "         status                                            tagline  \\\n",
      "0      Released                                                NaN   \n",
      "1      Released          Roll the dice and unleash the excitement!   \n",
      "2      Released  Still Yelling. Still Fighting. Still Ready for...   \n",
      "3      Released  Friends are the people who let you be yourself...   \n",
      "4      Released  Just When His World Is Back To Normal... He's ...   \n",
      "...         ...                                                ...   \n",
      "45461  Released         Rising and falling between a man and woman   \n",
      "45462  Released                                                NaN   \n",
      "45463  Released                             A deadly game of wits.   \n",
      "45464  Released                                                NaN   \n",
      "45465  Released                                                NaN   \n",
      "\n",
      "                             title  video vote_average vote_count  \n",
      "0                        Toy Story  False          7.7     5415.0  \n",
      "1                          Jumanji  False          6.9     2413.0  \n",
      "2                 Grumpier Old Men  False          6.5       92.0  \n",
      "3                Waiting to Exhale  False          6.1       34.0  \n",
      "4      Father of the Bride Part II  False          5.7      173.0  \n",
      "...                            ...    ...          ...        ...  \n",
      "45461                       Subdue  False          4.0        1.0  \n",
      "45462          Century of Birthing  False          9.0        3.0  \n",
      "45463                     Betrayal  False          3.8        6.0  \n",
      "45464             Satan Triumphant  False          0.0        0.0  \n",
      "45465                     Queerama  False          0.0        0.0  \n",
      "\n",
      "[45466 rows x 24 columns]>\n"
     ]
    }
   ],
   "source": [
    "print(movies.head)"
   ]
  },
  {
   "cell_type": "code",
   "execution_count": 71,
   "id": "68e2a8b2-487e-4057-a96c-4ffa3873b593",
   "metadata": {},
   "outputs": [
    {
     "name": "stdout",
     "output_type": "stream",
     "text": [
      "<bound method NDFrame.head of       movieId   imdbId    tmdbId\n",
      "0           1   114709     862.0\n",
      "1           2   113497    8844.0\n",
      "2           3   113228   15602.0\n",
      "3           4   114885   31357.0\n",
      "4           5   113041   11862.0\n",
      "...       ...      ...       ...\n",
      "9120   162672  3859980  402672.0\n",
      "9121   163056  4262980  315011.0\n",
      "9122   163949  2531318  391698.0\n",
      "9123   164977    27660  137608.0\n",
      "9124   164979  3447228  410803.0\n",
      "\n",
      "[9125 rows x 3 columns]>\n"
     ]
    }
   ],
   "source": [
    "print(links.head)"
   ]
  },
  {
   "cell_type": "markdown",
   "id": "8e88fa51-a68c-402f-90be-37e0e9df9d28",
   "metadata": {},
   "source": [
    "### Datos en la columna de 'Genres' como JSon"
   ]
  },
  {
   "cell_type": "markdown",
   "id": "e92c9709-de41-4372-ac9d-3f1a6f1eb884",
   "metadata": {},
   "source": [
    "para la limpieza utilicé este link como referencia\n",
    "https://towardsdatascience.com/cleaning-and-extracting-json-from-pandas-dataframes-f0c15f93cb38\n",
    "github\n",
    "https://github.com/mpHarm88/projects/tree/master/json"
   ]
  },
  {
   "cell_type": "code",
   "execution_count": 72,
   "id": "e66764d2-f2a7-4942-a452-c2f1505959b9",
   "metadata": {},
   "outputs": [],
   "source": [
    "movies['genres'] = movies['genres'].str.replace(\"\\'\",\"\\\"\")\n",
    "jgenres = [\"genres\"]\n",
    "\n",
    "def new_json(x):\n",
    "    return json.loads(x)\n",
    "\n",
    "for x in jgenres:\n",
    "    movies[x] = movies[x].apply(new_json)\n",
    "\n",
    "    \n",
    "def new_json2(x):\n",
    "\n",
    "    ls = []\n",
    "\n",
    "    for y in range(len(x[0])):\n",
    "\n",
    "        for k, v in x[0][y].items():\n",
    "            ls.append(str(k)+ \"_\" +str(v))\n",
    "   \n",
    "    for z in range(len(ls)):\n",
    "\n",
    "        if ls[z] not in movies.columns:\n",
    "            movies[ls[z]] = 0\n",
    "            movies[ls[z]].iloc[x.name] = 1\n",
    "        else:\n",
    "            movies[ls[z]].iloc[x.name] = 1\n",
    "    return\n",
    "\n",
    "for x in jgenres:\n",
    "    movies[[x]].apply(new_json2, axis=1)"
   ]
  },
  {
   "cell_type": "code",
   "execution_count": 73,
   "id": "275562d9-ce35-4e2b-b800-acd4318deb08",
   "metadata": {},
   "outputs": [
    {
     "name": "stdout",
     "output_type": "stream",
     "text": [
      "Index(['adult', 'belongs_to_collection', 'budget', 'genres', 'homepage', 'id',\n",
      "       'imdb_id', 'original_language', 'original_title', 'overview',\n",
      "       'popularity', 'poster_path', 'production_companies',\n",
      "       'production_countries', 'release_date', 'revenue', 'runtime',\n",
      "       'spoken_languages', 'status', 'tagline', 'title', 'video',\n",
      "       'vote_average', 'vote_count', 'id_16', 'name_Animation', 'id_35',\n",
      "       'name_Comedy', 'id_10751', 'name_Family', 'id_12', 'name_Adventure',\n",
      "       'id_14', 'name_Fantasy', 'id_10749', 'name_Romance', 'id_18',\n",
      "       'name_Drama', 'id_28', 'name_Action', 'id_80', 'name_Crime', 'id_53',\n",
      "       'name_Thriller', 'id_27', 'name_Horror', 'id_36', 'name_History',\n",
      "       'id_878', 'name_Science Fiction', 'id_9648', 'name_Mystery', 'id_10752',\n",
      "       'name_War', 'id_10769', 'name_Foreign', 'id_10402', 'name_Music',\n",
      "       'id_99', 'name_Documentary', 'id_37', 'name_Western', 'id_10770',\n",
      "       'name_TV Movie', 'name_Carousel Productions', 'id_11176',\n",
      "       'name_Vision View Entertainment', 'id_11602',\n",
      "       'name_Telescene Film Group Productions', 'id_29812', 'name_Aniplex',\n",
      "       'id_2883', 'name_GoHands', 'id_7759', 'name_BROSTA TV', 'id_7760',\n",
      "       'name_Mardock Scramble Production Committee', 'id_7761',\n",
      "       'name_Sentai Filmworks', 'id_33751', 'name_Odyssey Media', 'id_17161',\n",
      "       'name_Pulser Productions', 'id_18012', 'name_Rogue State', 'id_18013',\n",
      "       'name_The Cartel', 'id_23822'],\n",
      "      dtype='object')\n",
      "0        1\n",
      "1        0\n",
      "2        0\n",
      "3        0\n",
      "4        0\n",
      "        ..\n",
      "45461    0\n",
      "45462    0\n",
      "45463    0\n",
      "45464    0\n",
      "45465    0\n",
      "Name: name_Animation, Length: 45466, dtype: int64\n"
     ]
    }
   ],
   "source": [
    "print(movies.columns)\n",
    "print(movies[\"name_Animation\"])"
   ]
  },
  {
   "cell_type": "markdown",
   "id": "3d2ba63b-ef66-4a64-b2bd-430b802582a2",
   "metadata": {},
   "source": [
    "### Generos de interes"
   ]
  },
  {
   "cell_type": "code",
   "execution_count": 74,
   "id": "3508f021-88d1-4807-9313-5815537f87b2",
   "metadata": {},
   "outputs": [],
   "source": [
    "# generos de interes\n",
    "gcols = movies[[\"genres\",\"name_Animation\", \"name_Comedy\", \"name_Science Fiction\", \"name_Adventure\", \"name_Fantasy\"]]"
   ]
  },
  {
   "cell_type": "code",
   "execution_count": 75,
   "id": "30fd14f6-4e50-4f84-95cf-a3a6aefe6fdf",
   "metadata": {},
   "outputs": [
    {
     "data": {
      "text/plain": [
       "'\\nmovies_wide = wcols.melt(id_vars=\"genres\", var_name=\\'Genres\\', value_name=\\'value\\')\\nmovies_wide1 = movies_wide[(movies_wide != 0).all(1)]\\nprint(movies_wide, movies_wide.shape, movies.shape)\\n\\n'"
      ]
     },
     "execution_count": 75,
     "metadata": {},
     "output_type": "execute_result"
    }
   ],
   "source": [
    "\"\"\"\n",
    "movies_wide = wcols.melt(id_vars=\"genres\", var_name='Genres', value_name='value')\n",
    "movies_wide1 = movies_wide[(movies_wide != 0).all(1)]\n",
    "print(movies_wide, movies_wide.shape, movies.shape)\n",
    "\n",
    "\"\"\"\n"
   ]
  },
  {
   "cell_type": "code",
   "execution_count": 76,
   "id": "dfce71e4-06e9-4166-9864-517236746a85",
   "metadata": {},
   "outputs": [
    {
     "data": {
      "text/html": [
       "<div>\n",
       "<style scoped>\n",
       "    .dataframe tbody tr th:only-of-type {\n",
       "        vertical-align: middle;\n",
       "    }\n",
       "\n",
       "    .dataframe tbody tr th {\n",
       "        vertical-align: top;\n",
       "    }\n",
       "\n",
       "    .dataframe thead th {\n",
       "        text-align: right;\n",
       "    }\n",
       "</style>\n",
       "<table border=\"1\" class=\"dataframe\">\n",
       "  <thead>\n",
       "    <tr style=\"text-align: right;\">\n",
       "      <th></th>\n",
       "      <th>adult</th>\n",
       "      <th>belongs_to_collection</th>\n",
       "      <th>budget</th>\n",
       "      <th>genres</th>\n",
       "      <th>homepage</th>\n",
       "      <th>id</th>\n",
       "      <th>imdb_id</th>\n",
       "      <th>original_language</th>\n",
       "      <th>original_title</th>\n",
       "      <th>overview</th>\n",
       "      <th>...</th>\n",
       "      <th>name_Sentai Filmworks</th>\n",
       "      <th>id_33751</th>\n",
       "      <th>name_Odyssey Media</th>\n",
       "      <th>id_17161</th>\n",
       "      <th>name_Pulser Productions</th>\n",
       "      <th>id_18012</th>\n",
       "      <th>name_Rogue State</th>\n",
       "      <th>id_18013</th>\n",
       "      <th>name_The Cartel</th>\n",
       "      <th>id_23822</th>\n",
       "    </tr>\n",
       "  </thead>\n",
       "  <tbody>\n",
       "  </tbody>\n",
       "</table>\n",
       "<p>0 rows × 88 columns</p>\n",
       "</div>"
      ],
      "text/plain": [
       "Empty DataFrame\n",
       "Columns: [adult, belongs_to_collection, budget, genres, homepage, id, imdb_id, original_language, original_title, overview, popularity, poster_path, production_companies, production_countries, release_date, revenue, runtime, spoken_languages, status, tagline, title, video, vote_average, vote_count, id_16, name_Animation, id_35, name_Comedy, id_10751, name_Family, id_12, name_Adventure, id_14, name_Fantasy, id_10749, name_Romance, id_18, name_Drama, id_28, name_Action, id_80, name_Crime, id_53, name_Thriller, id_27, name_Horror, id_36, name_History, id_878, name_Science Fiction, id_9648, name_Mystery, id_10752, name_War, id_10769, name_Foreign, id_10402, name_Music, id_99, name_Documentary, id_37, name_Western, id_10770, name_TV Movie, name_Carousel Productions, id_11176, name_Vision View Entertainment, id_11602, name_Telescene Film Group Productions, id_29812, name_Aniplex, id_2883, name_GoHands, id_7759, name_BROSTA TV, id_7760, name_Mardock Scramble Production Committee, id_7761, name_Sentai Filmworks, id_33751, name_Odyssey Media, id_17161, name_Pulser Productions, id_18012, name_Rogue State, id_18013, name_The Cartel, id_23822]\n",
       "Index: []\n",
       "\n",
       "[0 rows x 88 columns]"
      ]
     },
     "execution_count": 76,
     "metadata": {},
     "output_type": "execute_result"
    }
   ],
   "source": []
  }
 ],
 "metadata": {
  "kernelspec": {
   "display_name": "venvL7",
   "language": "python",
   "name": "venvl7"
  },
  "language_info": {
   "codemirror_mode": {
    "name": "ipython",
    "version": 3
   },
   "file_extension": ".py",
   "mimetype": "text/x-python",
   "name": "python",
   "nbconvert_exporter": "python",
   "pygments_lexer": "ipython3",
   "version": "3.9.1"
  }
 },
 "nbformat": 4,
 "nbformat_minor": 5
}
