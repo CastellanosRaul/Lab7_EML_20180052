{
 "cells": [
  {
   "cell_type": "markdown",
   "id": "2ddcb025-e395-482f-9733-6d40740f02e4",
   "metadata": {},
   "source": [
    "### Lab 7: Sistema de Recomendacion"
   ]
  },
  {
   "cell_type": "code",
   "execution_count": 25,
   "id": "93937b38-5814-4704-b70a-599247842e1c",
   "metadata": {},
   "outputs": [],
   "source": [
    "import pandas as pd \n",
    "import numpy as np \n",
    "import matplotlib.pyplot as plt \n",
    "import json\n",
    "\n",
    "%matplotlib inline"
   ]
  },
  {
   "cell_type": "markdown",
   "id": "bb0fdc7b-58ea-411e-ab14-391247669eea",
   "metadata": {},
   "source": [
    "### Datasets"
   ]
  },
  {
   "cell_type": "code",
   "execution_count": 27,
   "id": "458ecb05-c72b-4079-8797-305aea3e12d8",
   "metadata": {},
   "outputs": [
    {
     "name": "stdout",
     "output_type": "stream",
     "text": [
      "(100004, 4) (45466, 24) (9125, 3)\n"
     ]
    },
    {
     "name": "stderr",
     "output_type": "stream",
     "text": [
      "/Users/raulcastellanos/Desktop/Universidad/S7/MLModels/venvMLM/lib/python3.9/site-packages/IPython/core/interactiveshell.py:3165: DtypeWarning: Columns (10) have mixed types.Specify dtype option on import or set low_memory=False.\n",
      "  has_raised = await self.run_ast_nodes(code_ast.body, cell_name,\n"
     ]
    }
   ],
   "source": [
    "ratings = pd.read_csv(\"ratings_small.csv\")\n",
    "movies = pd.read_csv(\"movies_metadata.csv\")\n",
    "links = pd.read_csv(\"links_small.csv\")\n",
    "\n",
    "print(ratings.shape, movies.shape, links.shape)"
   ]
  },
  {
   "cell_type": "markdown",
   "id": "3e1498db-73a7-4a9c-a1ad-5a8d0e55e9f1",
   "metadata": {},
   "source": [
    "### Descripcion de los datasets"
   ]
  },
  {
   "cell_type": "code",
   "execution_count": 28,
   "id": "40c46d67-6c54-4d60-addf-4ef4af4525f0",
   "metadata": {},
   "outputs": [
    {
     "name": "stdout",
     "output_type": "stream",
     "text": [
      "Dataset Ratings\n",
      "\n",
      "\n",
      "userId         int64\n",
      "movieId        int64\n",
      "rating       float64\n",
      "timestamp      int64\n",
      "dtype: object\n",
      "\n",
      "\n",
      "Movies Ratings\n",
      "\n",
      "\n",
      "adult                     object\n",
      "belongs_to_collection     object\n",
      "budget                    object\n",
      "genres                    object\n",
      "homepage                  object\n",
      "id                        object\n",
      "imdb_id                   object\n",
      "original_language         object\n",
      "original_title            object\n",
      "overview                  object\n",
      "popularity                object\n",
      "poster_path               object\n",
      "production_companies      object\n",
      "production_countries      object\n",
      "release_date              object\n",
      "revenue                  float64\n",
      "runtime                  float64\n",
      "spoken_languages          object\n",
      "status                    object\n",
      "tagline                   object\n",
      "title                     object\n",
      "video                     object\n",
      "vote_average             float64\n",
      "vote_count               float64\n",
      "dtype: object\n",
      "\n",
      "\n",
      "Links\n",
      "\n",
      "\n",
      "movieId      int64\n",
      "imdbId       int64\n",
      "tmdbId     float64\n",
      "dtype: object\n"
     ]
    }
   ],
   "source": [
    "print(\"Dataset Ratings\")\n",
    "print(\"\\n\")\n",
    "print(ratings.dtypes)\n",
    "print(\"\\n\")\n",
    "print(\"Movies Ratings\")\n",
    "print(\"\\n\")\n",
    "print(movies.dtypes)\n",
    "print(\"\\n\")\n",
    "print(\"Links\")\n",
    "print(\"\\n\")\n",
    "print(links.dtypes)"
   ]
  },
  {
   "cell_type": "code",
   "execution_count": 29,
   "id": "f395a3a2-c76f-4468-8d96-966cad1a51ab",
   "metadata": {},
   "outputs": [
    {
     "name": "stdout",
     "output_type": "stream",
     "text": [
      "   userId  movieId  rating   timestamp\n",
      "0       1       31     2.5  1260759144\n",
      "1       1     1029     3.0  1260759179\n",
      "2       1     1061     3.0  1260759182\n",
      "3       1     1129     2.0  1260759185\n",
      "4       1     1172     4.0  1260759205\n"
     ]
    }
   ],
   "source": [
    "print(ratings.head())"
   ]
  },
  {
   "cell_type": "code",
   "execution_count": 30,
   "id": "00dd593c-21a4-4e8d-95bc-cd20e76af897",
   "metadata": {},
   "outputs": [
    {
     "name": "stdout",
     "output_type": "stream",
     "text": [
      "   adult                              belongs_to_collection    budget  \\\n",
      "0  False  {'id': 10194, 'name': 'Toy Story Collection', ...  30000000   \n",
      "1  False                                                NaN  65000000   \n",
      "2  False  {'id': 119050, 'name': 'Grumpy Old Men Collect...         0   \n",
      "3  False                                                NaN  16000000   \n",
      "4  False  {'id': 96871, 'name': 'Father of the Bride Col...         0   \n",
      "\n",
      "                                              genres  \\\n",
      "0  [{'id': 16, 'name': 'Animation'}, {'id': 35, '...   \n",
      "1  [{'id': 12, 'name': 'Adventure'}, {'id': 14, '...   \n",
      "2  [{'id': 10749, 'name': 'Romance'}, {'id': 35, ...   \n",
      "3  [{'id': 35, 'name': 'Comedy'}, {'id': 18, 'nam...   \n",
      "4                     [{'id': 35, 'name': 'Comedy'}]   \n",
      "\n",
      "                               homepage     id    imdb_id original_language  \\\n",
      "0  http://toystory.disney.com/toy-story    862  tt0114709                en   \n",
      "1                                   NaN   8844  tt0113497                en   \n",
      "2                                   NaN  15602  tt0113228                en   \n",
      "3                                   NaN  31357  tt0114885                en   \n",
      "4                                   NaN  11862  tt0113041                en   \n",
      "\n",
      "                original_title  \\\n",
      "0                    Toy Story   \n",
      "1                      Jumanji   \n",
      "2             Grumpier Old Men   \n",
      "3            Waiting to Exhale   \n",
      "4  Father of the Bride Part II   \n",
      "\n",
      "                                            overview  ... release_date  \\\n",
      "0  Led by Woody, Andy's toys live happily in his ...  ...   1995-10-30   \n",
      "1  When siblings Judy and Peter discover an encha...  ...   1995-12-15   \n",
      "2  A family wedding reignites the ancient feud be...  ...   1995-12-22   \n",
      "3  Cheated on, mistreated and stepped on, the wom...  ...   1995-12-22   \n",
      "4  Just when George Banks has recovered from his ...  ...   1995-02-10   \n",
      "\n",
      "       revenue runtime                                   spoken_languages  \\\n",
      "0  373554033.0    81.0           [{'iso_639_1': 'en', 'name': 'English'}]   \n",
      "1  262797249.0   104.0  [{'iso_639_1': 'en', 'name': 'English'}, {'iso...   \n",
      "2          0.0   101.0           [{'iso_639_1': 'en', 'name': 'English'}]   \n",
      "3   81452156.0   127.0           [{'iso_639_1': 'en', 'name': 'English'}]   \n",
      "4   76578911.0   106.0           [{'iso_639_1': 'en', 'name': 'English'}]   \n",
      "\n",
      "     status                                            tagline  \\\n",
      "0  Released                                                NaN   \n",
      "1  Released          Roll the dice and unleash the excitement!   \n",
      "2  Released  Still Yelling. Still Fighting. Still Ready for...   \n",
      "3  Released  Friends are the people who let you be yourself...   \n",
      "4  Released  Just When His World Is Back To Normal... He's ...   \n",
      "\n",
      "                         title  video vote_average vote_count  \n",
      "0                    Toy Story  False          7.7     5415.0  \n",
      "1                      Jumanji  False          6.9     2413.0  \n",
      "2             Grumpier Old Men  False          6.5       92.0  \n",
      "3            Waiting to Exhale  False          6.1       34.0  \n",
      "4  Father of the Bride Part II  False          5.7      173.0  \n",
      "\n",
      "[5 rows x 24 columns]\n"
     ]
    }
   ],
   "source": [
    "print(movies.head())"
   ]
  },
  {
   "cell_type": "code",
   "execution_count": 31,
   "id": "68e2a8b2-487e-4057-a96c-4ffa3873b593",
   "metadata": {},
   "outputs": [
    {
     "name": "stdout",
     "output_type": "stream",
     "text": [
      "   movieId  imdbId   tmdbId\n",
      "0        1  114709    862.0\n",
      "1        2  113497   8844.0\n",
      "2        3  113228  15602.0\n",
      "3        4  114885  31357.0\n",
      "4        5  113041  11862.0\n"
     ]
    }
   ],
   "source": [
    "print(links.head())"
   ]
  },
  {
   "cell_type": "markdown",
   "id": "8e88fa51-a68c-402f-90be-37e0e9df9d28",
   "metadata": {},
   "source": [
    "### Datos en la columna de 'Genres' como JSon"
   ]
  },
  {
   "cell_type": "markdown",
   "id": "e92c9709-de41-4372-ac9d-3f1a6f1eb884",
   "metadata": {},
   "source": [
    "para la limpieza utilicé este link como referencia\n",
    "https://towardsdatascience.com/cleaning-and-extracting-json-from-pandas-dataframes-f0c15f93cb38\n",
    "github\n",
    "https://github.com/mpHarm88/projects/tree/master/json"
   ]
  },
  {
   "cell_type": "code",
   "execution_count": 32,
   "id": "e66764d2-f2a7-4942-a452-c2f1505959b9",
   "metadata": {},
   "outputs": [],
   "source": [
    "movies['genres'] = movies['genres'].str.replace(\"\\'\",\"\\\"\")\n",
    "jgenres = [\"genres\"]\n",
    "\n",
    "def new_json(x):\n",
    "    return json.loads(x)\n",
    "\n",
    "for x in jgenres:\n",
    "    movies[x] = movies[x].apply(new_json)\n",
    "\n",
    "    \n",
    "def new_json2(x):\n",
    "\n",
    "    ls = []\n",
    "\n",
    "    for y in range(len(x[0])):\n",
    "\n",
    "        for k, v in x[0][y].items():\n",
    "            ls.append(str(k)+ \"_\" +str(v))\n",
    "   \n",
    "    for z in range(len(ls)):\n",
    "\n",
    "        if ls[z] not in movies.columns:\n",
    "            movies[ls[z]] = 0\n",
    "            movies[ls[z]].iloc[x.name] = 1\n",
    "        else:\n",
    "            movies[ls[z]].iloc[x.name] = 1\n",
    "    return\n",
    "\n",
    "for x in jgenres:\n",
    "    movies[[x]].apply(new_json2, axis=1)"
   ]
  },
  {
   "cell_type": "code",
   "execution_count": 33,
   "id": "275562d9-ce35-4e2b-b800-acd4318deb08",
   "metadata": {},
   "outputs": [
    {
     "name": "stdout",
     "output_type": "stream",
     "text": [
      "Index(['adult', 'belongs_to_collection', 'budget', 'genres', 'homepage', 'id',\n",
      "       'imdb_id', 'original_language', 'original_title', 'overview',\n",
      "       'popularity', 'poster_path', 'production_companies',\n",
      "       'production_countries', 'release_date', 'revenue', 'runtime',\n",
      "       'spoken_languages', 'status', 'tagline', 'title', 'video',\n",
      "       'vote_average', 'vote_count', 'id_16', 'name_Animation', 'id_35',\n",
      "       'name_Comedy', 'id_10751', 'name_Family', 'id_12', 'name_Adventure',\n",
      "       'id_14', 'name_Fantasy', 'id_10749', 'name_Romance', 'id_18',\n",
      "       'name_Drama', 'id_28', 'name_Action', 'id_80', 'name_Crime', 'id_53',\n",
      "       'name_Thriller', 'id_27', 'name_Horror', 'id_36', 'name_History',\n",
      "       'id_878', 'name_Science Fiction', 'id_9648', 'name_Mystery', 'id_10752',\n",
      "       'name_War', 'id_10769', 'name_Foreign', 'id_10402', 'name_Music',\n",
      "       'id_99', 'name_Documentary', 'id_37', 'name_Western', 'id_10770',\n",
      "       'name_TV Movie', 'name_Carousel Productions', 'id_11176',\n",
      "       'name_Vision View Entertainment', 'id_11602',\n",
      "       'name_Telescene Film Group Productions', 'id_29812', 'name_Aniplex',\n",
      "       'id_2883', 'name_GoHands', 'id_7759', 'name_BROSTA TV', 'id_7760',\n",
      "       'name_Mardock Scramble Production Committee', 'id_7761',\n",
      "       'name_Sentai Filmworks', 'id_33751', 'name_Odyssey Media', 'id_17161',\n",
      "       'name_Pulser Productions', 'id_18012', 'name_Rogue State', 'id_18013',\n",
      "       'name_The Cartel', 'id_23822'],\n",
      "      dtype='object')\n",
      "0        1\n",
      "1        0\n",
      "2        0\n",
      "3        0\n",
      "4        0\n",
      "        ..\n",
      "45461    0\n",
      "45462    0\n",
      "45463    0\n",
      "45464    0\n",
      "45465    0\n",
      "Name: name_Animation, Length: 45466, dtype: int64\n"
     ]
    }
   ],
   "source": [
    "print(movies.columns)\n",
    "print(movies[\"name_Animation\"])"
   ]
  },
  {
   "cell_type": "markdown",
   "id": "3d2ba63b-ef66-4a64-b2bd-430b802582a2",
   "metadata": {},
   "source": [
    "### Transformacion de los ID's para poder hacer el join"
   ]
  },
  {
   "cell_type": "code",
   "execution_count": 34,
   "id": "3508f021-88d1-4807-9313-5815537f87b2",
   "metadata": {},
   "outputs": [
    {
     "name": "stderr",
     "output_type": "stream",
     "text": [
      "<ipython-input-34-f3f167569544>:2: FutureWarning: The default value of regex will change from True to False in a future version.\n",
      "  links['tmdbId'] = links['tmdbId'].str.replace(\"\\.0\",\"\")\n"
     ]
    },
    {
     "data": {
      "text/plain": [
       "<bound method NDFrame.head of       movieId   imdbId  tmdbId\n",
       "0           1   114709     862\n",
       "1           2   113497    8844\n",
       "2           3   113228   15602\n",
       "3           4   114885   31357\n",
       "4           5   113041   11862\n",
       "...       ...      ...     ...\n",
       "9120   162672  3859980  402672\n",
       "9121   163056  4262980  315011\n",
       "9122   163949  2531318  391698\n",
       "9123   164977    27660  137608\n",
       "9124   164979  3447228  410803\n",
       "\n",
       "[9125 rows x 3 columns]>"
      ]
     },
     "execution_count": 34,
     "metadata": {},
     "output_type": "execute_result"
    }
   ],
   "source": [
    "links['tmdbId'] = links['tmdbId'].astype(str)\n",
    "links['tmdbId'] = links['tmdbId'].str.replace(\"\\.0\",\"\")\n",
    "links['tmdbId'] = links['tmdbId'].astype(object)\n",
    "links.head"
   ]
  },
  {
   "cell_type": "markdown",
   "id": "76a2c879-c0dd-4bb4-b4b9-0bf34c5f60fe",
   "metadata": {},
   "source": [
    "### Join de la tabla movies y links, por medio del id"
   ]
  },
  {
   "cell_type": "code",
   "execution_count": 35,
   "id": "83155ede-1c0e-461e-8dcb-01228c9ae8c6",
   "metadata": {},
   "outputs": [
    {
     "data": {
      "text/html": [
       "<div>\n",
       "<style scoped>\n",
       "    .dataframe tbody tr th:only-of-type {\n",
       "        vertical-align: middle;\n",
       "    }\n",
       "\n",
       "    .dataframe tbody tr th {\n",
       "        vertical-align: top;\n",
       "    }\n",
       "\n",
       "    .dataframe thead th {\n",
       "        text-align: right;\n",
       "    }\n",
       "</style>\n",
       "<table border=\"1\" class=\"dataframe\">\n",
       "  <thead>\n",
       "    <tr style=\"text-align: right;\">\n",
       "      <th></th>\n",
       "      <th>adult</th>\n",
       "      <th>belongs_to_collection</th>\n",
       "      <th>budget</th>\n",
       "      <th>genres</th>\n",
       "      <th>homepage</th>\n",
       "      <th>id</th>\n",
       "      <th>imdb_id</th>\n",
       "      <th>original_language</th>\n",
       "      <th>original_title</th>\n",
       "      <th>overview</th>\n",
       "      <th>...</th>\n",
       "      <th>id_17161</th>\n",
       "      <th>name_Pulser Productions</th>\n",
       "      <th>id_18012</th>\n",
       "      <th>name_Rogue State</th>\n",
       "      <th>id_18013</th>\n",
       "      <th>name_The Cartel</th>\n",
       "      <th>id_23822</th>\n",
       "      <th>movieId</th>\n",
       "      <th>imdbId</th>\n",
       "      <th>tmdbId</th>\n",
       "    </tr>\n",
       "  </thead>\n",
       "  <tbody>\n",
       "    <tr>\n",
       "      <th>0</th>\n",
       "      <td>False</td>\n",
       "      <td>{'id': 10194, 'name': 'Toy Story Collection', ...</td>\n",
       "      <td>30000000</td>\n",
       "      <td>[{'id': 16, 'name': 'Animation'}, {'id': 35, '...</td>\n",
       "      <td>http://toystory.disney.com/toy-story</td>\n",
       "      <td>862</td>\n",
       "      <td>tt0114709</td>\n",
       "      <td>en</td>\n",
       "      <td>Toy Story</td>\n",
       "      <td>Led by Woody, Andy's toys live happily in his ...</td>\n",
       "      <td>...</td>\n",
       "      <td>0</td>\n",
       "      <td>0</td>\n",
       "      <td>0</td>\n",
       "      <td>0</td>\n",
       "      <td>0</td>\n",
       "      <td>0</td>\n",
       "      <td>0</td>\n",
       "      <td>1</td>\n",
       "      <td>114709</td>\n",
       "      <td>862</td>\n",
       "    </tr>\n",
       "    <tr>\n",
       "      <th>1</th>\n",
       "      <td>False</td>\n",
       "      <td>NaN</td>\n",
       "      <td>65000000</td>\n",
       "      <td>[{'id': 12, 'name': 'Adventure'}, {'id': 14, '...</td>\n",
       "      <td>NaN</td>\n",
       "      <td>8844</td>\n",
       "      <td>tt0113497</td>\n",
       "      <td>en</td>\n",
       "      <td>Jumanji</td>\n",
       "      <td>When siblings Judy and Peter discover an encha...</td>\n",
       "      <td>...</td>\n",
       "      <td>0</td>\n",
       "      <td>0</td>\n",
       "      <td>0</td>\n",
       "      <td>0</td>\n",
       "      <td>0</td>\n",
       "      <td>0</td>\n",
       "      <td>0</td>\n",
       "      <td>2</td>\n",
       "      <td>113497</td>\n",
       "      <td>8844</td>\n",
       "    </tr>\n",
       "    <tr>\n",
       "      <th>2</th>\n",
       "      <td>False</td>\n",
       "      <td>{'id': 119050, 'name': 'Grumpy Old Men Collect...</td>\n",
       "      <td>0</td>\n",
       "      <td>[{'id': 10749, 'name': 'Romance'}, {'id': 35, ...</td>\n",
       "      <td>NaN</td>\n",
       "      <td>15602</td>\n",
       "      <td>tt0113228</td>\n",
       "      <td>en</td>\n",
       "      <td>Grumpier Old Men</td>\n",
       "      <td>A family wedding reignites the ancient feud be...</td>\n",
       "      <td>...</td>\n",
       "      <td>0</td>\n",
       "      <td>0</td>\n",
       "      <td>0</td>\n",
       "      <td>0</td>\n",
       "      <td>0</td>\n",
       "      <td>0</td>\n",
       "      <td>0</td>\n",
       "      <td>3</td>\n",
       "      <td>113228</td>\n",
       "      <td>15602</td>\n",
       "    </tr>\n",
       "    <tr>\n",
       "      <th>3</th>\n",
       "      <td>False</td>\n",
       "      <td>NaN</td>\n",
       "      <td>16000000</td>\n",
       "      <td>[{'id': 35, 'name': 'Comedy'}, {'id': 18, 'nam...</td>\n",
       "      <td>NaN</td>\n",
       "      <td>31357</td>\n",
       "      <td>tt0114885</td>\n",
       "      <td>en</td>\n",
       "      <td>Waiting to Exhale</td>\n",
       "      <td>Cheated on, mistreated and stepped on, the wom...</td>\n",
       "      <td>...</td>\n",
       "      <td>0</td>\n",
       "      <td>0</td>\n",
       "      <td>0</td>\n",
       "      <td>0</td>\n",
       "      <td>0</td>\n",
       "      <td>0</td>\n",
       "      <td>0</td>\n",
       "      <td>4</td>\n",
       "      <td>114885</td>\n",
       "      <td>31357</td>\n",
       "    </tr>\n",
       "    <tr>\n",
       "      <th>4</th>\n",
       "      <td>False</td>\n",
       "      <td>{'id': 96871, 'name': 'Father of the Bride Col...</td>\n",
       "      <td>0</td>\n",
       "      <td>[{'id': 35, 'name': 'Comedy'}]</td>\n",
       "      <td>NaN</td>\n",
       "      <td>11862</td>\n",
       "      <td>tt0113041</td>\n",
       "      <td>en</td>\n",
       "      <td>Father of the Bride Part II</td>\n",
       "      <td>Just when George Banks has recovered from his ...</td>\n",
       "      <td>...</td>\n",
       "      <td>0</td>\n",
       "      <td>0</td>\n",
       "      <td>0</td>\n",
       "      <td>0</td>\n",
       "      <td>0</td>\n",
       "      <td>0</td>\n",
       "      <td>0</td>\n",
       "      <td>5</td>\n",
       "      <td>113041</td>\n",
       "      <td>11862</td>\n",
       "    </tr>\n",
       "  </tbody>\n",
       "</table>\n",
       "<p>5 rows × 91 columns</p>\n",
       "</div>"
      ],
      "text/plain": [
       "   adult                              belongs_to_collection    budget  \\\n",
       "0  False  {'id': 10194, 'name': 'Toy Story Collection', ...  30000000   \n",
       "1  False                                                NaN  65000000   \n",
       "2  False  {'id': 119050, 'name': 'Grumpy Old Men Collect...         0   \n",
       "3  False                                                NaN  16000000   \n",
       "4  False  {'id': 96871, 'name': 'Father of the Bride Col...         0   \n",
       "\n",
       "                                              genres  \\\n",
       "0  [{'id': 16, 'name': 'Animation'}, {'id': 35, '...   \n",
       "1  [{'id': 12, 'name': 'Adventure'}, {'id': 14, '...   \n",
       "2  [{'id': 10749, 'name': 'Romance'}, {'id': 35, ...   \n",
       "3  [{'id': 35, 'name': 'Comedy'}, {'id': 18, 'nam...   \n",
       "4                     [{'id': 35, 'name': 'Comedy'}]   \n",
       "\n",
       "                               homepage     id    imdb_id original_language  \\\n",
       "0  http://toystory.disney.com/toy-story    862  tt0114709                en   \n",
       "1                                   NaN   8844  tt0113497                en   \n",
       "2                                   NaN  15602  tt0113228                en   \n",
       "3                                   NaN  31357  tt0114885                en   \n",
       "4                                   NaN  11862  tt0113041                en   \n",
       "\n",
       "                original_title  \\\n",
       "0                    Toy Story   \n",
       "1                      Jumanji   \n",
       "2             Grumpier Old Men   \n",
       "3            Waiting to Exhale   \n",
       "4  Father of the Bride Part II   \n",
       "\n",
       "                                            overview  ... id_17161  \\\n",
       "0  Led by Woody, Andy's toys live happily in his ...  ...        0   \n",
       "1  When siblings Judy and Peter discover an encha...  ...        0   \n",
       "2  A family wedding reignites the ancient feud be...  ...        0   \n",
       "3  Cheated on, mistreated and stepped on, the wom...  ...        0   \n",
       "4  Just when George Banks has recovered from his ...  ...        0   \n",
       "\n",
       "  name_Pulser Productions id_18012 name_Rogue State id_18013  name_The Cartel  \\\n",
       "0                       0        0                0        0                0   \n",
       "1                       0        0                0        0                0   \n",
       "2                       0        0                0        0                0   \n",
       "3                       0        0                0        0                0   \n",
       "4                       0        0                0        0                0   \n",
       "\n",
       "   id_23822 movieId  imdbId tmdbId  \n",
       "0         0       1  114709    862  \n",
       "1         0       2  113497   8844  \n",
       "2         0       3  113228  15602  \n",
       "3         0       4  114885  31357  \n",
       "4         0       5  113041  11862  \n",
       "\n",
       "[5 rows x 91 columns]"
      ]
     },
     "execution_count": 35,
     "metadata": {},
     "output_type": "execute_result"
    }
   ],
   "source": [
    "movie_link = pd.merge(movies,links, left_on = 'id', right_on = 'tmdbId')\n",
    "movie_link.head()"
   ]
  },
  {
   "cell_type": "markdown",
   "id": "5122ee94-1c16-4dd3-91c8-202ecbd97711",
   "metadata": {},
   "source": [
    "### Join de movies con sus ratings"
   ]
  },
  {
   "cell_type": "code",
   "execution_count": 38,
   "id": "7c3a70f3-c615-4535-a2d4-7497dbcdbf68",
   "metadata": {},
   "outputs": [
    {
     "data": {
      "text/html": [
       "<div>\n",
       "<style scoped>\n",
       "    .dataframe tbody tr th:only-of-type {\n",
       "        vertical-align: middle;\n",
       "    }\n",
       "\n",
       "    .dataframe tbody tr th {\n",
       "        vertical-align: top;\n",
       "    }\n",
       "\n",
       "    .dataframe thead th {\n",
       "        text-align: right;\n",
       "    }\n",
       "</style>\n",
       "<table border=\"1\" class=\"dataframe\">\n",
       "  <thead>\n",
       "    <tr style=\"text-align: right;\">\n",
       "      <th></th>\n",
       "      <th>userId</th>\n",
       "      <th>movieId</th>\n",
       "      <th>rating</th>\n",
       "    </tr>\n",
       "  </thead>\n",
       "  <tbody>\n",
       "    <tr>\n",
       "      <th>0</th>\n",
       "      <td>1</td>\n",
       "      <td>31</td>\n",
       "      <td>2.5</td>\n",
       "    </tr>\n",
       "    <tr>\n",
       "      <th>1</th>\n",
       "      <td>1</td>\n",
       "      <td>1029</td>\n",
       "      <td>3.0</td>\n",
       "    </tr>\n",
       "    <tr>\n",
       "      <th>2</th>\n",
       "      <td>1</td>\n",
       "      <td>1061</td>\n",
       "      <td>3.0</td>\n",
       "    </tr>\n",
       "    <tr>\n",
       "      <th>3</th>\n",
       "      <td>1</td>\n",
       "      <td>1129</td>\n",
       "      <td>2.0</td>\n",
       "    </tr>\n",
       "    <tr>\n",
       "      <th>4</th>\n",
       "      <td>1</td>\n",
       "      <td>1172</td>\n",
       "      <td>4.0</td>\n",
       "    </tr>\n",
       "  </tbody>\n",
       "</table>\n",
       "</div>"
      ],
      "text/plain": [
       "   userId  movieId  rating\n",
       "0       1       31     2.5\n",
       "1       1     1029     3.0\n",
       "2       1     1061     3.0\n",
       "3       1     1129     2.0\n",
       "4       1     1172     4.0"
      ]
     },
     "execution_count": 38,
     "metadata": {},
     "output_type": "execute_result"
    }
   ],
   "source": [
    "ratings1 = ratings.drop('timestamp', axis = 1)\n",
    "ratings1.head()"
   ]
  },
  {
   "cell_type": "code",
   "execution_count": 42,
   "id": "b3520b55-d15d-4c57-a499-4f350f04d0d5",
   "metadata": {},
   "outputs": [
    {
     "data": {
      "text/html": [
       "<div>\n",
       "<style scoped>\n",
       "    .dataframe tbody tr th:only-of-type {\n",
       "        vertical-align: middle;\n",
       "    }\n",
       "\n",
       "    .dataframe tbody tr th {\n",
       "        vertical-align: top;\n",
       "    }\n",
       "\n",
       "    .dataframe thead th {\n",
       "        text-align: right;\n",
       "    }\n",
       "</style>\n",
       "<table border=\"1\" class=\"dataframe\">\n",
       "  <thead>\n",
       "    <tr style=\"text-align: right;\">\n",
       "      <th></th>\n",
       "      <th>adult</th>\n",
       "      <th>belongs_to_collection</th>\n",
       "      <th>budget</th>\n",
       "      <th>genres</th>\n",
       "      <th>homepage</th>\n",
       "      <th>id</th>\n",
       "      <th>imdb_id</th>\n",
       "      <th>original_language</th>\n",
       "      <th>original_title</th>\n",
       "      <th>overview</th>\n",
       "      <th>...</th>\n",
       "      <th>id_18012</th>\n",
       "      <th>name_Rogue State</th>\n",
       "      <th>id_18013</th>\n",
       "      <th>name_The Cartel</th>\n",
       "      <th>id_23822</th>\n",
       "      <th>movieId</th>\n",
       "      <th>imdbId</th>\n",
       "      <th>tmdbId</th>\n",
       "      <th>userId</th>\n",
       "      <th>rating</th>\n",
       "    </tr>\n",
       "  </thead>\n",
       "  <tbody>\n",
       "    <tr>\n",
       "      <th>0</th>\n",
       "      <td>False</td>\n",
       "      <td>{'id': 10194, 'name': 'Toy Story Collection', ...</td>\n",
       "      <td>30000000</td>\n",
       "      <td>[{'id': 16, 'name': 'Animation'}, {'id': 35, '...</td>\n",
       "      <td>http://toystory.disney.com/toy-story</td>\n",
       "      <td>862</td>\n",
       "      <td>tt0114709</td>\n",
       "      <td>en</td>\n",
       "      <td>Toy Story</td>\n",
       "      <td>Led by Woody, Andy's toys live happily in his ...</td>\n",
       "      <td>...</td>\n",
       "      <td>0</td>\n",
       "      <td>0</td>\n",
       "      <td>0</td>\n",
       "      <td>0</td>\n",
       "      <td>0</td>\n",
       "      <td>1</td>\n",
       "      <td>114709</td>\n",
       "      <td>862</td>\n",
       "      <td>7</td>\n",
       "      <td>3.0</td>\n",
       "    </tr>\n",
       "    <tr>\n",
       "      <th>1</th>\n",
       "      <td>False</td>\n",
       "      <td>{'id': 10194, 'name': 'Toy Story Collection', ...</td>\n",
       "      <td>30000000</td>\n",
       "      <td>[{'id': 16, 'name': 'Animation'}, {'id': 35, '...</td>\n",
       "      <td>http://toystory.disney.com/toy-story</td>\n",
       "      <td>862</td>\n",
       "      <td>tt0114709</td>\n",
       "      <td>en</td>\n",
       "      <td>Toy Story</td>\n",
       "      <td>Led by Woody, Andy's toys live happily in his ...</td>\n",
       "      <td>...</td>\n",
       "      <td>0</td>\n",
       "      <td>0</td>\n",
       "      <td>0</td>\n",
       "      <td>0</td>\n",
       "      <td>0</td>\n",
       "      <td>1</td>\n",
       "      <td>114709</td>\n",
       "      <td>862</td>\n",
       "      <td>9</td>\n",
       "      <td>4.0</td>\n",
       "    </tr>\n",
       "    <tr>\n",
       "      <th>2</th>\n",
       "      <td>False</td>\n",
       "      <td>{'id': 10194, 'name': 'Toy Story Collection', ...</td>\n",
       "      <td>30000000</td>\n",
       "      <td>[{'id': 16, 'name': 'Animation'}, {'id': 35, '...</td>\n",
       "      <td>http://toystory.disney.com/toy-story</td>\n",
       "      <td>862</td>\n",
       "      <td>tt0114709</td>\n",
       "      <td>en</td>\n",
       "      <td>Toy Story</td>\n",
       "      <td>Led by Woody, Andy's toys live happily in his ...</td>\n",
       "      <td>...</td>\n",
       "      <td>0</td>\n",
       "      <td>0</td>\n",
       "      <td>0</td>\n",
       "      <td>0</td>\n",
       "      <td>0</td>\n",
       "      <td>1</td>\n",
       "      <td>114709</td>\n",
       "      <td>862</td>\n",
       "      <td>13</td>\n",
       "      <td>5.0</td>\n",
       "    </tr>\n",
       "    <tr>\n",
       "      <th>3</th>\n",
       "      <td>False</td>\n",
       "      <td>{'id': 10194, 'name': 'Toy Story Collection', ...</td>\n",
       "      <td>30000000</td>\n",
       "      <td>[{'id': 16, 'name': 'Animation'}, {'id': 35, '...</td>\n",
       "      <td>http://toystory.disney.com/toy-story</td>\n",
       "      <td>862</td>\n",
       "      <td>tt0114709</td>\n",
       "      <td>en</td>\n",
       "      <td>Toy Story</td>\n",
       "      <td>Led by Woody, Andy's toys live happily in his ...</td>\n",
       "      <td>...</td>\n",
       "      <td>0</td>\n",
       "      <td>0</td>\n",
       "      <td>0</td>\n",
       "      <td>0</td>\n",
       "      <td>0</td>\n",
       "      <td>1</td>\n",
       "      <td>114709</td>\n",
       "      <td>862</td>\n",
       "      <td>15</td>\n",
       "      <td>2.0</td>\n",
       "    </tr>\n",
       "    <tr>\n",
       "      <th>4</th>\n",
       "      <td>False</td>\n",
       "      <td>{'id': 10194, 'name': 'Toy Story Collection', ...</td>\n",
       "      <td>30000000</td>\n",
       "      <td>[{'id': 16, 'name': 'Animation'}, {'id': 35, '...</td>\n",
       "      <td>http://toystory.disney.com/toy-story</td>\n",
       "      <td>862</td>\n",
       "      <td>tt0114709</td>\n",
       "      <td>en</td>\n",
       "      <td>Toy Story</td>\n",
       "      <td>Led by Woody, Andy's toys live happily in his ...</td>\n",
       "      <td>...</td>\n",
       "      <td>0</td>\n",
       "      <td>0</td>\n",
       "      <td>0</td>\n",
       "      <td>0</td>\n",
       "      <td>0</td>\n",
       "      <td>1</td>\n",
       "      <td>114709</td>\n",
       "      <td>862</td>\n",
       "      <td>19</td>\n",
       "      <td>3.0</td>\n",
       "    </tr>\n",
       "  </tbody>\n",
       "</table>\n",
       "<p>5 rows × 93 columns</p>\n",
       "</div>"
      ],
      "text/plain": [
       "   adult                              belongs_to_collection    budget  \\\n",
       "0  False  {'id': 10194, 'name': 'Toy Story Collection', ...  30000000   \n",
       "1  False  {'id': 10194, 'name': 'Toy Story Collection', ...  30000000   \n",
       "2  False  {'id': 10194, 'name': 'Toy Story Collection', ...  30000000   \n",
       "3  False  {'id': 10194, 'name': 'Toy Story Collection', ...  30000000   \n",
       "4  False  {'id': 10194, 'name': 'Toy Story Collection', ...  30000000   \n",
       "\n",
       "                                              genres  \\\n",
       "0  [{'id': 16, 'name': 'Animation'}, {'id': 35, '...   \n",
       "1  [{'id': 16, 'name': 'Animation'}, {'id': 35, '...   \n",
       "2  [{'id': 16, 'name': 'Animation'}, {'id': 35, '...   \n",
       "3  [{'id': 16, 'name': 'Animation'}, {'id': 35, '...   \n",
       "4  [{'id': 16, 'name': 'Animation'}, {'id': 35, '...   \n",
       "\n",
       "                               homepage   id    imdb_id original_language  \\\n",
       "0  http://toystory.disney.com/toy-story  862  tt0114709                en   \n",
       "1  http://toystory.disney.com/toy-story  862  tt0114709                en   \n",
       "2  http://toystory.disney.com/toy-story  862  tt0114709                en   \n",
       "3  http://toystory.disney.com/toy-story  862  tt0114709                en   \n",
       "4  http://toystory.disney.com/toy-story  862  tt0114709                en   \n",
       "\n",
       "  original_title                                           overview  ...  \\\n",
       "0      Toy Story  Led by Woody, Andy's toys live happily in his ...  ...   \n",
       "1      Toy Story  Led by Woody, Andy's toys live happily in his ...  ...   \n",
       "2      Toy Story  Led by Woody, Andy's toys live happily in his ...  ...   \n",
       "3      Toy Story  Led by Woody, Andy's toys live happily in his ...  ...   \n",
       "4      Toy Story  Led by Woody, Andy's toys live happily in his ...  ...   \n",
       "\n",
       "  id_18012 name_Rogue State id_18013 name_The Cartel id_23822  movieId  \\\n",
       "0        0                0        0               0        0        1   \n",
       "1        0                0        0               0        0        1   \n",
       "2        0                0        0               0        0        1   \n",
       "3        0                0        0               0        0        1   \n",
       "4        0                0        0               0        0        1   \n",
       "\n",
       "   imdbId tmdbId userId rating  \n",
       "0  114709    862      7    3.0  \n",
       "1  114709    862      9    4.0  \n",
       "2  114709    862     13    5.0  \n",
       "3  114709    862     15    2.0  \n",
       "4  114709    862     19    3.0  \n",
       "\n",
       "[5 rows x 93 columns]"
      ]
     },
     "execution_count": 42,
     "metadata": {},
     "output_type": "execute_result"
    }
   ],
   "source": [
    "movies_data = pd.merge(movie_link, ratings1, on = 'movieId')\n",
    "\n",
    "#rellenamos los NA's\n",
    "movies_data = movies_data.fillna(0)\n",
    "movies_data.head()"
   ]
  },
  {
   "cell_type": "markdown",
   "id": "34bcdf3e-dda8-413d-8f52-7aa9d47735c3",
   "metadata": {},
   "source": [
    "### Variable X"
   ]
  },
  {
   "cell_type": "code",
   "execution_count": 47,
   "id": "2cbb68fb-dd09-4dee-9a47-8f87365ce3d4",
   "metadata": {},
   "outputs": [
    {
     "data": {
      "text/plain": [
       "(9025, 32)"
      ]
     },
     "execution_count": 47,
     "metadata": {},
     "output_type": "execute_result"
    }
   ],
   "source": [
    "X0 = movies_data.filter(regex=(\"^name\"))\n",
    "X1 = pd.concat([movies_data['movieId'], X0], axis = 1)\n",
    "X = X1.pivot_table(index='movieId',aggfunc='mean')\n",
    "X.shape"
   ]
  },
  {
   "cell_type": "markdown",
   "id": "b2b5449a-6f6e-4cc7-bc6b-3f8269ab5e5b",
   "metadata": {},
   "source": [
    "### Variable Y"
   ]
  },
  {
   "cell_type": "code",
   "execution_count": 48,
   "id": "04b1af4d-7320-49c4-a2b9-8bf04c9f651a",
   "metadata": {},
   "outputs": [
    {
     "data": {
      "text/plain": [
       "(9025, 671)"
      ]
     },
     "execution_count": 48,
     "metadata": {},
     "output_type": "execute_result"
    }
   ],
   "source": [
    "y0 = movies_data[['userId', 'movieId', 'rating']]\n",
    "y = y0.pivot_table(index='movieId',columns='userId',values='rating', aggfunc=np.mean)\n",
    "y.shape"
   ]
  },
  {
   "cell_type": "markdown",
   "id": "38cf7702-c741-44ed-929d-2a6436885855",
   "metadata": {},
   "source": [
    "### Conversion a numpy array y data type a float"
   ]
  },
  {
   "cell_type": "code",
   "execution_count": 51,
   "id": "f2d4c0a3-046c-49e4-b98a-d9d268226026",
   "metadata": {},
   "outputs": [],
   "source": [
    "X_np = X.to_numpy()\n",
    "y_np = np.nan_to_num(y.to_numpy())\n",
    "\n",
    "X_np = Xnp.astype(float)\n",
    "y_np = ynp.astype(float)"
   ]
  },
  {
   "cell_type": "markdown",
   "id": "cba8ee46-2629-476d-982f-588ef93dd0bf",
   "metadata": {},
   "source": [
    "### Train, Test, CV"
   ]
  },
  {
   "cell_type": "code",
   "execution_count": 52,
   "id": "d2b6db0e-1711-45cc-b5a7-bf33fd3195cc",
   "metadata": {},
   "outputs": [],
   "source": [
    "X_train, X_cv, X_test = np.split(X_np, [int(len(X_np)*0.7), int(len(X_np)*0.85)])\n",
    "y_train, y_cv, y_test = np.split(y_np, [int(len(y_np)*0.7), int(len(y_np)*0.85)])"
   ]
  },
  {
   "cell_type": "code",
   "execution_count": 54,
   "id": "2e62b8a9-023f-4ea2-9900-ad373c2cbd69",
   "metadata": {},
   "outputs": [],
   "source": [
    "m,n = X_train.shape\n",
    "z,w = y_train.shape\n",
    "theta_0 = np.random.rand(w,n)"
   ]
  },
  {
   "cell_type": "code",
   "execution_count": 62,
   "id": "a845a3e0-a776-4b19-b76c-b3cac6d2725e",
   "metadata": {},
   "outputs": [],
   "source": [
    "def cost(Y, X, T):\n",
    "    return(((X @ T.T - Y) ** 2) * ((Y != 0) * 1)).sum()\n",
    "\n",
    "\n",
    "def gradient(Y, X, T):\n",
    "    R = (Y != 0) * 1\n",
    "    hip_error = (X @ T.T - Y) * R\n",
    "\n",
    "    return (\n",
    "        hip_error @ T,\n",
    "        hip_error.T @ X,\n",
    "    )\n",
    "\n",
    "\n",
    "def adam(\n",
    "        Y,\n",
    "        Xo,\n",
    "        To,\n",
    "        fun,\n",
    "        jac,\n",
    "        alpha=0.001,\n",
    "        beta1=0.9,\n",
    "        beta2=0.999,\n",
    "        epsilon=0.0000001,\n",
    "        max_iter=1000\n",
    "):\n",
    "    xm = np.zeros(Xo.shape)\n",
    "    tm = np.zeros(To.shape)\n",
    "\n",
    "    xv = np.zeros(Xo.shape)\n",
    "    tv = np.zeros(To.shape)\n",
    "\n",
    "    X, T, t = Xo, To, 0\n",
    "\n",
    "    cost = []\n",
    "    while t < max_iter:\n",
    "        t += 1\n",
    "\n",
    "        xg, tg = jac(Y, X, T)\n",
    "\n",
    "        cost.append(fun(Y, X, T).item())\n",
    "        #print(f'{t} \\t loss={fun(Y, X, T).item():,.2f}')\n",
    "\n",
    "        xm = beta1 * xm + (1 - beta1) * xg\n",
    "        tm = beta1 * tm + (1 - beta1) * tg\n",
    "\n",
    "        xv = beta2 * xv + (1 - beta2) * xg * xg\n",
    "        tv = beta2 * tv + (1 - beta2) * tg * tg\n",
    "\n",
    "        xmh = xm / (1 - beta1 ** t)\n",
    "        tmh = tm / (1 - beta1 ** t)\n",
    "\n",
    "        xvh = xv / (1 - beta2 ** t)\n",
    "        tvh = tv / (1 - beta2 ** t)\n",
    "\n",
    "        X -= alpha * xmh / (np.sqrt(xvh) + epsilon)\n",
    "        T -= alpha * tmh / (np.sqrt(tvh) + epsilon)\n",
    "\n",
    "    return X, T, cost"
   ]
  },
  {
   "cell_type": "markdown",
   "id": "46e353ce-7e5d-4d77-bc37-c8724e4c08cb",
   "metadata": {},
   "source": [
    "### Resultados"
   ]
  },
  {
   "cell_type": "code",
   "execution_count": 63,
   "id": "b6e123ec-e93f-4e76-af5c-b45202de43fa",
   "metadata": {},
   "outputs": [],
   "source": [
    "X_train_results, Tetha_train_results, Cost_train = adam(y_train, X_train, theta_0, cost, gradient)"
   ]
  },
  {
   "cell_type": "code",
   "execution_count": 64,
   "id": "e30f1bc2-2705-45e5-998a-edc73892d53c",
   "metadata": {},
   "outputs": [
    {
     "data": {
      "text/plain": [
       "6483.743688557745"
      ]
     },
     "execution_count": 64,
     "metadata": {},
     "output_type": "execute_result"
    }
   ],
   "source": [
    "Cost_train[-1]"
   ]
  },
  {
   "cell_type": "markdown",
   "id": "f1b1541a-c01b-4473-991e-e720285b9d45",
   "metadata": {},
   "source": [
    "### Cross Validation"
   ]
  },
  {
   "cell_type": "code",
   "execution_count": 65,
   "id": "219e0b67-efce-4ee3-ac6f-06dbc5ff2a64",
   "metadata": {},
   "outputs": [
    {
     "data": {
      "text/plain": [
       "39928.719151080215"
      ]
     },
     "execution_count": 65,
     "metadata": {},
     "output_type": "execute_result"
    }
   ],
   "source": [
    "Cost_cv = cost(y_cv, X_cv, Tetha_train_results)\n",
    "Cost_cv"
   ]
  },
  {
   "cell_type": "markdown",
   "id": "7775c84a-9b71-4bfd-8932-f3d3ac3a805e",
   "metadata": {},
   "source": [
    "### Test"
   ]
  },
  {
   "cell_type": "code",
   "execution_count": 67,
   "id": "ec5117a6-bc67-4aa3-9b3c-f7f61419c186",
   "metadata": {},
   "outputs": [
    {
     "data": {
      "text/plain": [
       "22548.871311289997"
      ]
     },
     "execution_count": 67,
     "metadata": {},
     "output_type": "execute_result"
    }
   ],
   "source": [
    "Cost_test = cost(y_test, X_test, Tetha_train_results)\n",
    "Cost_test"
   ]
  },
  {
   "cell_type": "markdown",
   "id": "a41f7380-be9b-4aa7-a074-c19d108b0c3b",
   "metadata": {},
   "source": [
    "### Conslusion"
   ]
  },
  {
   "cell_type": "markdown",
   "id": "79855768-0118-4777-b7e5-246b182e9571",
   "metadata": {},
   "source": [
    "Al tener un costo de cross validation y test bajos esto nos ayuda a ver que el modelo puede comportarse de una manera normal ya que la variabilidad en los costos no es muy alta"
   ]
  }
 ],
 "metadata": {
  "kernelspec": {
   "display_name": "venvL7",
   "language": "python",
   "name": "venvl7"
  },
  "language_info": {
   "codemirror_mode": {
    "name": "ipython",
    "version": 3
   },
   "file_extension": ".py",
   "mimetype": "text/x-python",
   "name": "python",
   "nbconvert_exporter": "python",
   "pygments_lexer": "ipython3",
   "version": "3.9.1"
  }
 },
 "nbformat": 4,
 "nbformat_minor": 5
}
